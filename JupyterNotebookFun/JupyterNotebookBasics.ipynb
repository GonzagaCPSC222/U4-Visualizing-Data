{
 "cells": [
  {
   "cell_type": "code",
   "execution_count": 1,
   "metadata": {},
   "outputs": [],
   "source": [
    "import pandas as pd"
   ]
  },
  {
   "cell_type": "markdown",
   "metadata": {},
   "source": [
    "This is a markdown cell\n",
    "\n",
    "Jupyter Notebook: is a list of interleaved code and markdown cells that tell a story (about a data)\n",
    "\n",
    "# This is a Level One Header\n",
    "This is paragraph text\n",
    "\n",
    "### This a Level Three Header\n",
    "There are 6 header levels\n",
    "\n",
    "This is a hard break\n",
    "\n",
    "There is an extra new line\n",
    "\n",
    "This is a soft break  \n",
    "There is a smaller new line here (note that there are two spaces after the \"break\")\n",
    "\n",
    "Like\n",
    "this"
   ]
  },
  {
   "cell_type": "markdown",
   "metadata": {},
   "source": [
    "## Formatting\n",
    "We can **bold**, *italicize*, ~~strikethrough~~\n",
    "\n",
    ">this is a block quote  \n",
    "It can span multiple lines\n",
    "\n",
    "We can format code: `import pandas as pd`\n",
    "\n",
    "We can have a block of code\n",
    "\n",
    "```\n",
    "for i in range(10):\n",
    "    print(i)\n",
    "```\n",
    "\n",
    "We can syntax highlight\n",
    "```python\n",
    "for i in range(10):\n",
    "    print(i)\n",
    "```"
   ]
  },
  {
   "cell_type": "markdown",
   "metadata": {},
   "source": [
    "## Lists\n",
    "We can have unordered lists:\n",
    "* Item 1\n",
    "* Item 2\n",
    "* Item 3\n",
    "\n",
    "We can also have ordered lists:\n",
    "1. Item 1\n",
    "1. Item 2\n",
    "1. Item 3\n",
    "\n",
    "We mix and nest:\n",
    "1. Item 1\n",
    "    * Subitem A\n",
    "    * Subitem B\n",
    "1. Item 2\n",
    "1. Item 3\n",
    "    * Subitem C"
   ]
  },
  {
   "cell_type": "markdown",
   "metadata": {},
   "source": [
    "## Links\n",
    "You should check out: https://www.markdowntutorial.com/\n",
    "\n",
    "You should check out [this tutorial](https://www.markdowntutorial.com/)"
   ]
  },
  {
   "cell_type": "markdown",
   "metadata": {},
   "source": [
    "## Images\n",
    "`![alt text](link to the image)`\n",
    "\n",
    "![I heart Markdown](https://res.cloudinary.com/practicaldev/image/fetch/s--Zsyd24zN--/c_imagga_scale,f_auto,fl_progressive,h_900,q_auto,w_1600/https://thepracticaldev.s3.amazonaws.com/i/jnamkl79fdiujc3zopkd.png)\n",
    "\n",
    "<img src=\"https://res.cloudinary.com/practicaldev/image/fetch/s--Zsyd24zN--/c_imagga_scale,f_auto,fl_progressive,h_900,q_auto,w_1600/https://thepracticaldev.s3.amazonaws.com/i/jnamkl79fdiujc3zopkd.png\" width=\"300\"/>"
   ]
  },
  {
   "cell_type": "markdown",
   "metadata": {},
   "source": [
    "## Tables\n",
    "CarName|ModelYear|MSRP\n",
    "-|-|-\n",
    "ford pinto|75|2769\n",
    "toyota corolla|75|2711\n",
    "ford pinto|76|3025\n",
    "toyota corolla|76|2789"
   ]
  },
  {
   "cell_type": "markdown",
   "metadata": {},
   "source": [
    "## Latex (Math Mode)"
   ]
  }
 ],
 "metadata": {
  "kernelspec": {
   "display_name": "Python 3",
   "language": "python",
   "name": "python3"
  },
  "language_info": {
   "codemirror_mode": {
    "name": "ipython",
    "version": 3
   },
   "file_extension": ".py",
   "mimetype": "text/x-python",
   "name": "python",
   "nbconvert_exporter": "python",
   "pygments_lexer": "ipython3",
   "version": "3.7.4"
  }
 },
 "nbformat": 4,
 "nbformat_minor": 4
}
