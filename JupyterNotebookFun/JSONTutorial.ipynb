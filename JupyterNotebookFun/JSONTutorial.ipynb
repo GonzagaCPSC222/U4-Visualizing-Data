{
 "cells": [
  {
   "cell_type": "markdown",
   "metadata": {},
   "source": [
    "# JSON Tutorial\n",
    "JSON stands for Javascript Object Notation. It is commonly used for passing data around on the web (followed by XML as a close second, eXtensible Markup Language). \n",
    "\n",
    "JSON is really just a dictionary:\n",
    "* It is a collection of key-value pairs\n",
    "* Keys are strings\n",
    "* Values can be one of several data types\n",
    "    * Strings\n",
    "    * Arrays\n",
    "    * JSON objects\n",
    "    * Bools\n",
    "    * Numerics\n",
    "    * etc. \n",
    "    \n",
    "Let's take a look at some sample JSON data:\n",
    "\n",
    "```json\n",
    "{\n",
    "    \"TimestampUTC\": \"2020-03-24T00:27:00Z\",\n",
    "    \"TimestampSubjectTZ\": \"2020-03-23T20:27:00\",\n",
    "    \"Calories\": 0.0234859050963356,\n",
    "    \"HR\": 0.0,\n",
    "    \"Lux\": null,\n",
    "    \"Steps\": 0.0,\n",
    "    \"Wear\": true,\n",
    "    \"x\": 0,\n",
    "    \"y\": 35,\n",
    "    \"z\": 0,\n",
    "    \"AxisXCounts\": 0,\n",
    "    \"AxisYCounts\": 35,\n",
    "    \"AxisZCounts\": 0\n",
    "  }\n",
    "```"
   ]
  }
 ],
 "metadata": {
  "kernelspec": {
   "display_name": "Python 3",
   "language": "python",
   "name": "python3"
  },
  "language_info": {
   "codemirror_mode": {
    "name": "ipython",
    "version": 3
   },
   "file_extension": ".py",
   "mimetype": "text/x-python",
   "name": "python",
   "nbconvert_exporter": "python",
   "pygments_lexer": "ipython3",
   "version": "3.7.4"
  }
 },
 "nbformat": 4,
 "nbformat_minor": 4
}
