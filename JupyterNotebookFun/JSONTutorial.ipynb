{
 "cells": [
  {
   "cell_type": "markdown",
   "metadata": {},
   "source": [
    "# JSON Tutorial\n",
    "JSON stands for Javascript Object Notation. It is commonly used for passing data around on the web (followed by XML as a close second, eXtensible Markup Language). \n",
    "\n",
    "JSON is really just a dictionary:\n",
    "* It is a collection of key-value pairs\n",
    "* Keys are strings\n",
    "* Values can be one of several data types\n",
    "    * Strings\n",
    "    * Arrays\n",
    "    * JSON objects\n",
    "    * Bools\n",
    "    * Numerics\n",
    "    * etc. \n",
    "    \n",
    "Let's take a look at some sample JSON data:\n",
    "\n",
    "```json\n",
    "{\n",
    "    \"TimestampUTC\": \"2020-03-24T00:27:00Z\",\n",
    "    \"TimestampSubjectTZ\": \"2020-03-23T20:27:00\",\n",
    "    \"Calories\": 0.0234859050963356,\n",
    "    \"HR\": 0.0,\n",
    "    \"Lux\": null,\n",
    "    \"Steps\": 0.0,\n",
    "    \"Wear\": true,\n",
    "    \"x\": 0,\n",
    "    \"y\": 35,\n",
    "    \"z\": 0,\n",
    "    \"AxisXCounts\": 0,\n",
    "    \"AxisYCounts\": 35,\n",
    "    \"AxisZCounts\": 0\n",
    "  }\n",
    "```"
   ]
  },
  {
   "cell_type": "markdown",
   "metadata": {},
   "source": [
    "The above JSON object represents one minute of wearable data collected from a device called an Actigraph. The [actigraph_data.json](https://raw.githubusercontent.com/GonzagaCPSC222/U4-Visualizing-Data/master/files/actigraph_data.json) file contains an array of five minutes of such JSON objects.\n",
    "\n",
    "We can open this data using pandas `read_json()` function. This will give us `DataFrame`"
   ]
  },
  {
   "cell_type": "code",
   "execution_count": 1,
   "metadata": {},
   "outputs": [
    {
     "name": "stdout",
     "output_type": "stream",
     "text": [
      "   AxisXCounts  AxisYCounts  AxisZCounts  Calories  HR  Lux  Steps  \\\n",
      "0            0           35            0  0.023486   0  NaN      0   \n",
      "1           44           63           55  0.042275   0  NaN      0   \n",
      "2            0            0            0  0.000000   0  NaN      0   \n",
      "3          193          334           71  0.224123   0  NaN      0   \n",
      "4           30           23            0  0.015434   0  NaN      0   \n",
      "\n",
      "   TimestampSubjectTZ        TimestampUTC  Wear    x    y   z  \n",
      "0 2020-03-23 20:27:00 2020-03-24 00:27:00  True    0   35   0  \n",
      "1 2020-03-23 20:28:00 2020-03-24 00:28:00  True   44   63  55  \n",
      "2 2020-03-23 20:29:00 2020-03-24 00:29:00  True    0    0   0  \n",
      "3 2020-03-23 20:30:00 2020-03-24 00:30:00  True  193  334  71  \n",
      "4 2020-03-23 20:31:00 2020-03-24 00:31:00  True   30   23   0  \n"
     ]
    }
   ],
   "source": [
    "import pandas as pd \n",
    "\n",
    "df = pd.read_json(\"actigraph_data.json\")\n",
    "print(df)"
   ]
  },
  {
   "cell_type": "markdown",
   "metadata": {},
   "source": [
    "## APIs\n",
    "API stands for application programming interface. An API exposes functions for programmers to use to query data, compute something, set a value, etc. from/on a server.\n",
    "\n",
    "We are gonna do an API demo, then come back and write code to fetch data from a different API. "
   ]
  }
 ],
 "metadata": {
  "kernelspec": {
   "display_name": "Python 3",
   "language": "python",
   "name": "python3"
  },
  "language_info": {
   "codemirror_mode": {
    "name": "ipython",
    "version": 3
   },
   "file_extension": ".py",
   "mimetype": "text/x-python",
   "name": "python",
   "nbconvert_exporter": "python",
   "pygments_lexer": "ipython3",
   "version": "3.7.6"
  }
 },
 "nbformat": 4,
 "nbformat_minor": 4
}
