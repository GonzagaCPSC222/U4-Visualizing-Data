{
 "cells": [
  {
   "cell_type": "markdown",
   "metadata": {},
   "source": [
    "# JSON Tutorial\n",
    "JSON stands for Javascript Object Notation. It is commonly used for passing data around on the web (followed by XML as a close second, eXtensible Markup Language). \n",
    "\n",
    "JSON is really just a dictionary:\n",
    "* It is a collection of key-value pairs\n",
    "* Keys are strings\n",
    "* Values can be one of several data types\n",
    "    * Strings\n",
    "    * Arrays\n",
    "    * JSON objects\n",
    "    * Bools\n",
    "    * Numerics\n",
    "    * etc. \n",
    "    \n",
    "Let's take a look at some sample JSON data:\n",
    "\n",
    "```json\n",
    "{\n",
    "    \"TimestampUTC\": \"2020-03-24T00:27:00Z\",\n",
    "    \"TimestampSubjectTZ\": \"2020-03-23T20:27:00\",\n",
    "    \"Calories\": 0.0234859050963356,\n",
    "    \"HR\": 0.0,\n",
    "    \"Lux\": null,\n",
    "    \"Steps\": 0.0,\n",
    "    \"Wear\": true,\n",
    "    \"x\": 0,\n",
    "    \"y\": 35,\n",
    "    \"z\": 0,\n",
    "    \"AxisXCounts\": 0,\n",
    "    \"AxisYCounts\": 35,\n",
    "    \"AxisZCounts\": 0\n",
    "  }\n",
    "```"
   ]
  },
  {
   "cell_type": "markdown",
   "metadata": {},
   "source": [
    "The above JSON object represents one minute of wearable data collected from a device called an Actigraph. The [actigraph_data.json](https://raw.githubusercontent.com/GonzagaCPSC222/U4-Visualizing-Data/master/files/actigraph_data.json) file contains an array of five minutes of such JSON objects.\n",
    "\n",
    "We can open this data using pandas `read_json()` function. This will give us `DataFrame`"
   ]
  },
  {
   "cell_type": "code",
   "execution_count": 1,
   "metadata": {},
   "outputs": [
    {
     "name": "stdout",
     "output_type": "stream",
     "text": [
      "   AxisXCounts  AxisYCounts  AxisZCounts  Calories  HR  Lux  Steps  \\\n",
      "0            0           35            0  0.023486   0  NaN      0   \n",
      "1           44           63           55  0.042275   0  NaN      0   \n",
      "2            0            0            0  0.000000   0  NaN      0   \n",
      "3          193          334           71  0.224123   0  NaN      0   \n",
      "4           30           23            0  0.015434   0  NaN      0   \n",
      "\n",
      "   TimestampSubjectTZ        TimestampUTC  Wear    x    y   z  \n",
      "0 2020-03-23 20:27:00 2020-03-24 00:27:00  True    0   35   0  \n",
      "1 2020-03-23 20:28:00 2020-03-24 00:28:00  True   44   63  55  \n",
      "2 2020-03-23 20:29:00 2020-03-24 00:29:00  True    0    0   0  \n",
      "3 2020-03-23 20:30:00 2020-03-24 00:30:00  True  193  334  71  \n",
      "4 2020-03-23 20:31:00 2020-03-24 00:31:00  True   30   23   0  \n"
     ]
    }
   ],
   "source": [
    "import pandas as pd \n",
    "\n",
    "df = pd.read_json(\"actigraph_data.json\")\n",
    "print(df)"
   ]
  },
  {
   "cell_type": "markdown",
   "metadata": {},
   "source": [
    "## APIs\n",
    "API stands for application programming interface. An API exposes functions for programmers to use to query data, compute something, set a value, etc. from/on a server.\n",
    "\n",
    "We are gonna do an API demo, then come back and write code to fetch data from a different API. \n",
    "\n",
    "List of public APIs: https://github.com/public-apis/public-apis \n",
    "\n",
    "We worked first with the open trivia database API: https://opentdb.com/api_config.php\n",
    "\n",
    "Now let's move on to a more comprehensive API demo."
   ]
  },
  {
   "cell_type": "markdown",
   "metadata": {},
   "source": [
    "## JSON Example: Seattle Quality of Living\n",
    "Let's work with the [Teleport API](https://developers.teleport.org/). From the website: \n",
    ">WELCOME TO TELEPORT FOR DEVELOPERS!\n",
    "We're building the largest and most up-to-date quality of life database for Planet Earth using 300+ different data dimensions from 70+ different sources, all updated periodically. Our global sources include the World Bank, World Health Organization, United Nations, Reporters Without Borders, OpenStreetMap, GeoNames, OpenFlights, Heritage Foundation, AngelList, Airbnb, Seed-DB and others. On top of these we augment the sets with things like laws and regulations, real estate prices and recruitment market data from local sources from countries around the world.  \n",
    "We would love to see what you guys can build on top of that data! We're starting off with providing easy access to Teleport City Scores (the highest level of abstraction for our collected data) and will continue to open up access to lower layers as we go along.\n",
    "\n",
    "Let's get started!!\n",
    "\n",
    "We are going need a `ua_id` \"urban area ID\" for Seattle. It is `slug:seattle` (I got this from the list of all urban areas).\n",
    "\n",
    "Here is the url we need: https://api.teleport.org/api/urban_areas/slug%3Aseattle/scores/ \n",
    "\n",
    "We want to open this URL in Python, read the JSON from the server response, then plot the category data for Seattle!!"
   ]
  },
  {
   "cell_type": "code",
   "execution_count": 21,
   "metadata": {},
   "outputs": [],
   "source": [
    "import urllib.request # part of the Python standard library\n",
    "\n",
    "# from teleport API\n",
    "url = \"https://api.teleport.org/api/urban_areas/slug%3Aseattle/scores/\"\n",
    "\n",
    "# open the URL and read the server's response\n",
    "data = urllib.request.urlopen(url).read().decode() \n",
    "# default encoding is utf-8\n",
    "#print(data)\n",
    "\n",
    "# write data out to a file\n",
    "filename = \"seattle_scores.json\"\n",
    "outfile = open(filename, \"w\")\n",
    "outfile.write(data)\n",
    "outfile.close()"
   ]
  },
  {
   "cell_type": "markdown",
   "metadata": {},
   "source": [
    "Now that we have the JSON out a file, let's try to read it in with pandas...."
   ]
  },
  {
   "cell_type": "code",
   "execution_count": 23,
   "metadata": {},
   "outputs": [],
   "source": [
    "import pandas as pd \n",
    "\n",
    "#df = pd.read_json(filename)\n",
    "# doesn't work :("
   ]
  },
  {
   "cell_type": "code",
   "execution_count": 28,
   "metadata": {},
   "outputs": [],
   "source": [
    "import json\n",
    "# parse the JSON manually...\n",
    "\n",
    "# open the seattle_scores.json file with json (module)\n",
    "infile = open(filename, \"r\")\n",
    "json_object = json.load(infile)\n",
    "#print(json_object) # like a dictionary\n",
    "\n",
    "# we want to the categories array\n",
    "categories_array = json_object[\"categories\"]\n",
    "#print(categories_array)\n",
    "cat_ser = pd.Series(dtype=float)\n",
    "for category_object in categories_array:\n",
    "    name = category_object[\"name\"]\n",
    "    score = category_object[\"score_out_of_10\"]\n",
    "    cat_ser[name] = score\n",
    "\n",
    "# task: store the name/score pairs in a series\n",
    "# make a bar chart for the series\n",
    "#print(cat_ser)"
   ]
  },
  {
   "cell_type": "code",
   "execution_count": 31,
   "metadata": {},
   "outputs": [
    {
     "data": {
      "image/png": "[encoded data removed]",
      "text/plain": [
       "<Figure size 432x288 with 1 Axes>"
      ]
     },
     "metadata": {
      "needs_background": "light"
     },
     "output_type": "display_data"
    }
   ],
   "source": [
    "# now let's plot!!\n",
    "import matplotlib.pyplot as plt\n",
    "\n",
    "plt.bar(cat_ser.index, cat_ser)\n",
    "plt.xticks(rotation=45, horizontalalignment=\"right\")\n",
    "plt.title(\"Seattle Quality of Living\")\n",
    "plt.xlabel(\"Categories\")\n",
    "plt.ylabel(\"Score out of 10\")\n",
    "\n",
    "plt.show()"
   ]
  },
  {
   "cell_type": "markdown",
   "metadata": {},
   "source": [
    "Seattle's stengths include:\n",
    "* Start ups\n",
    "* Venture capital\n",
    "* Business Freedom\n",
    "\n",
    "Weaknesses include:\n",
    "* Housing\n",
    "* Travel connectivity\n",
    "* Commute"
   ]
  }
 ],
 "metadata": {
  "kernelspec": {
   "display_name": "Python 3",
   "language": "python",
   "name": "python3"
  },
  "language_info": {
   "codemirror_mode": {
    "name": "ipython",
    "version": 3
   },
   "file_extension": ".py",
   "mimetype": "text/x-python",
   "name": "python",
   "nbconvert_exporter": "python",
   "pygments_lexer": "ipython3",
   "version": "3.7.4"
  }
 },
 "nbformat": 4,
 "nbformat_minor": 4
}
