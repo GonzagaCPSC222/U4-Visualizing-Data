{
 "cells": [
  {
   "cell_type": "markdown",
   "metadata": {},
   "source": [
    "# [CPSC 222](https://github.com/GonzagaCPSC222) Intro to Data Science\n",
    "[Gonzaga University](https://www.gonzaga.edu/)\n",
    "\n",
    "[Gina Sprint](http://cs.gonzaga.edu/faculty/sprint/)\n",
    "\n",
    "## Markdown/Latex Lab\n",
    "In a new Jupyter Notebook called MarkdownLatexLab.ipynb, add section headers and a description for each of the following tasks:\n",
    "\n",
    "### Task 1\n",
    "1. Typeset the following equations from Appendix A of Bramer:\n",
    "<img src=\"https://raw.githubusercontent.com/GonzagaCPSC310/U3-Data-Analysis/master/figures/log_properties.png\" width=\"600\"/>\n",
    "<img src=\"https://raw.githubusercontent.com/GonzagaCPSC310/U3-Data-Analysis/master/figures/double_subscript_notation.png\" width=\"600\"/>\n",
    "\n",
    "1. Cite the Bramer textbook as a source by including a link to the Amazon page for the book.\n",
    "\n",
    "### Task 2\n",
    "1. Typeset the formula for computing the mean of a sequence of numbers $a$.\n",
    "1. Follow the formula with a code cell that contains a function definition for computing the mean of a list `a`. Call this function with example data and print out the result.\n",
    "1. Plot the list `a` and label the mean value with an annotation. \n",
    "1. Challenge: read about [matplotlib arrow properties](https://matplotlib.org/users/annotations.html) and have your label for the mean point to the actual mean (x, y) point with an arrow."
   ]
  }
 ],
 "metadata": {
  "kernelspec": {
   "display_name": "Python 3",
   "language": "python",
   "name": "python3"
  },
  "language_info": {
   "codemirror_mode": {
    "name": "ipython",
    "version": 3
   },
   "file_extension": ".py",
   "mimetype": "text/x-python",
   "name": "python",
   "nbconvert_exporter": "python",
   "pygments_lexer": "ipython3",
   "version": "3.7.4"
  }
 },
 "nbformat": 4,
 "nbformat_minor": 2
}
